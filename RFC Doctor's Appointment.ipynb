{
 "cells": [
  {
   "cell_type": "code",
   "execution_count": 1,
   "metadata": {
    "collapsed": true
   },
   "outputs": [],
   "source": [
    "import numpy as np\n",
    "import pandas as pd\n",
    "import matplotlib.pyplot as plt\n",
    "import seaborn as sns\n",
    "from scipy import stats\n",
    "%matplotlib inline"
   ]
  },
  {
   "cell_type": "code",
   "execution_count": 2,
   "metadata": {},
   "outputs": [
    {
     "data": {
      "text/html": [
       "<div>\n",
       "<style>\n",
       "    .dataframe thead tr:only-child th {\n",
       "        text-align: right;\n",
       "    }\n",
       "\n",
       "    .dataframe thead th {\n",
       "        text-align: left;\n",
       "    }\n",
       "\n",
       "    .dataframe tbody tr th {\n",
       "        vertical-align: top;\n",
       "    }\n",
       "</style>\n",
       "<table border=\"1\" class=\"dataframe\">\n",
       "  <thead>\n",
       "    <tr style=\"text-align: right;\">\n",
       "      <th></th>\n",
       "      <th>Gender</th>\n",
       "      <th>Age</th>\n",
       "      <th>Scheduled_Day</th>\n",
       "      <th>Appointment_Day</th>\n",
       "      <th>Day_Difference</th>\n",
       "      <th>Day_of_Week</th>\n",
       "      <th>Scholarship</th>\n",
       "      <th>SMS_Received</th>\n",
       "      <th>With_Condition</th>\n",
       "      <th>No_Show</th>\n",
       "    </tr>\n",
       "  </thead>\n",
       "  <tbody>\n",
       "    <tr>\n",
       "      <th>0</th>\n",
       "      <td>F</td>\n",
       "      <td>62</td>\n",
       "      <td>2016-04-29</td>\n",
       "      <td>2016-04-29</td>\n",
       "      <td>0</td>\n",
       "      <td>Friday</td>\n",
       "      <td>No</td>\n",
       "      <td>No</td>\n",
       "      <td>Yes</td>\n",
       "      <td>No</td>\n",
       "    </tr>\n",
       "    <tr>\n",
       "      <th>1</th>\n",
       "      <td>M</td>\n",
       "      <td>56</td>\n",
       "      <td>2016-04-29</td>\n",
       "      <td>2016-04-29</td>\n",
       "      <td>0</td>\n",
       "      <td>Friday</td>\n",
       "      <td>No</td>\n",
       "      <td>No</td>\n",
       "      <td>No</td>\n",
       "      <td>No</td>\n",
       "    </tr>\n",
       "    <tr>\n",
       "      <th>2</th>\n",
       "      <td>F</td>\n",
       "      <td>62</td>\n",
       "      <td>2016-04-29</td>\n",
       "      <td>2016-04-29</td>\n",
       "      <td>0</td>\n",
       "      <td>Friday</td>\n",
       "      <td>No</td>\n",
       "      <td>No</td>\n",
       "      <td>No</td>\n",
       "      <td>No</td>\n",
       "    </tr>\n",
       "    <tr>\n",
       "      <th>3</th>\n",
       "      <td>F</td>\n",
       "      <td>8</td>\n",
       "      <td>2016-04-29</td>\n",
       "      <td>2016-04-29</td>\n",
       "      <td>0</td>\n",
       "      <td>Friday</td>\n",
       "      <td>No</td>\n",
       "      <td>No</td>\n",
       "      <td>No</td>\n",
       "      <td>No</td>\n",
       "    </tr>\n",
       "    <tr>\n",
       "      <th>4</th>\n",
       "      <td>F</td>\n",
       "      <td>56</td>\n",
       "      <td>2016-04-29</td>\n",
       "      <td>2016-04-29</td>\n",
       "      <td>0</td>\n",
       "      <td>Friday</td>\n",
       "      <td>No</td>\n",
       "      <td>No</td>\n",
       "      <td>Yes</td>\n",
       "      <td>No</td>\n",
       "    </tr>\n",
       "  </tbody>\n",
       "</table>\n",
       "</div>"
      ],
      "text/plain": [
       "  Gender  Age Scheduled_Day Appointment_Day  Day_Difference Day_of_Week  \\\n",
       "0      F   62    2016-04-29      2016-04-29               0      Friday   \n",
       "1      M   56    2016-04-29      2016-04-29               0      Friday   \n",
       "2      F   62    2016-04-29      2016-04-29               0      Friday   \n",
       "3      F    8    2016-04-29      2016-04-29               0      Friday   \n",
       "4      F   56    2016-04-29      2016-04-29               0      Friday   \n",
       "\n",
       "  Scholarship SMS_Received With_Condition No_Show  \n",
       "0          No           No            Yes      No  \n",
       "1          No           No             No      No  \n",
       "2          No           No             No      No  \n",
       "3          No           No             No      No  \n",
       "4          No           No            Yes      No  "
      ]
     },
     "execution_count": 2,
     "metadata": {},
     "output_type": "execute_result"
    }
   ],
   "source": [
    "dat = pd.read_csv('Appointment.csv')\n",
    "dat.head(5)"
   ]
  },
  {
   "cell_type": "markdown",
   "metadata": {},
   "source": [
    "# test the key metric: SMS vs No SMS"
   ]
  },
  {
   "cell_type": "code",
   "execution_count": 3,
   "metadata": {},
   "outputs": [
    {
     "name": "stdout",
     "output_type": "stream",
     "text": [
      "SMS Received sample size: 28248\n",
      "No SMS Received sample size: 57744\n",
      "\n",
      "\n",
      "Number show and received SMS: 20619\n",
      "Number no show and received SMS: 7629\n",
      "Proportion of no show (SMS): 0.27007221750212407\n",
      "\n",
      "\n",
      "Number show and received no SMS: 48325\n",
      "Number no show and received no SMS: 9419\n",
      "Proportion of no show (No SMS): 0.16311651426988086\n"
     ]
    }
   ],
   "source": [
    "# create two new tables: one table with sms received and one table without\n",
    "# find out about the size of each table\n",
    "sms = dat.loc[lambda x: dat['SMS_Received'] == 'Yes'].reset_index(drop = True)\n",
    "no_sms = dat.loc[lambda x: dat['SMS_Received'] == 'No'].reset_index(drop = True)\n",
    "\n",
    "## adjust data for later purposes (remove data with unrealistic traits)\n",
    "# people with age 1 and have scholarship (doesn't make sense)   \n",
    "# limit to people age from 16+ \n",
    "sms = sms.loc[lambda x: sms['Age'] >= 16]\n",
    "no_sms = no_sms.loc[lambda x: no_sms['Age'] >= 16]\n",
    "\n",
    "# making sure day difference between scheduled day and appointment day is positive\n",
    "sms = sms.loc[lambda x: sms['Day_Difference'] >= 0]\n",
    "no_sms = no_sms.loc[lambda x: no_sms['Day_Difference'] >= 0]\n",
    "\n",
    "print('SMS Received sample size:', len(sms))\n",
    "print('No SMS Received sample size:', len(no_sms))\n",
    "print('\\n')\n",
    "\n",
    "# SMS Received: Calculate the proportion of people who show/no show \n",
    "print('Number show and received SMS:', len(sms[sms['No_Show'] == 'No']))\n",
    "print('Number no show and received SMS:', len(sms[sms['No_Show'] == 'Yes']))\n",
    "print('Proportion of no show (SMS):', len(sms[sms['No_Show'] == 'Yes'])/len(sms))\n",
    "print('\\n')\n",
    "\n",
    "# No SMS Received: Calculate the proportion of people who show/no show\n",
    "print('Number show and received no SMS:', len(no_sms[no_sms['No_Show'] == 'No']))\n",
    "print('Number no show and received no SMS:', len(no_sms[no_sms['No_Show'] == 'Yes']))\n",
    "print('Proportion of no show (No SMS):', len(no_sms[no_sms['No_Show'] == 'Yes'])/len(no_sms))"
   ]
  },
  {
   "cell_type": "code",
   "execution_count": 4,
   "metadata": {},
   "outputs": [
    {
     "data": {
      "image/png": "[encoded data removed]",
      "text/plain": [
       "<matplotlib.figure.Figure at 0x1650068b358>"
      ]
     },
     "metadata": {},
     "output_type": "display_data"
    }
   ],
   "source": [
    "# Barplots for SMS vs No SMS\n",
    "\n",
    "# Assign variables for graph: (Show and No Show)\n",
    "obj = sms['No_Show'].unique()\n",
    "x_pos = np.arange(len(obj))\n",
    "wid = np.min(np.diff(x_pos))/3\n",
    "plt.figure(figsize=(10,5))\n",
    "\n",
    "sms_y_pos = [len(sms[sms['No_Show'] == 'No']), len(sms[sms['No_Show'] == 'Yes'])]\n",
    "no_sms_y_pos = [len(no_sms[no_sms['No_Show'] == 'No']), len(no_sms[no_sms['No_Show'] == 'Yes'])]\n",
    "\n",
    "ax = plt.subplot()\n",
    "ax.bar(x_pos-wid/2, sms_y_pos, width = wid, color = 'blue', label = 'SMS') # SMS\n",
    "ax.bar(x_pos+wid/2, no_sms_y_pos,  width = wid, color = 'red', label = 'No SMS') # No SMS\n",
    "\n",
    "\n",
    "ax.set_xticks(x_pos)\n",
    "ax.set_xticklabels(obj, fontsize = 12)\n",
    "ax.set_ylabel('Number of People', fontsize = 14)\n",
    "ax.set_xlabel('Show Up', fontsize = 14)\n",
    "ax.set_title('SMS vs No SMS' + '\\n' + 'Show Up Rate', fontsize = 16)\n",
    "ax.legend(fontsize = 10)\n",
    "\n",
    "plt.savefig('SMS_vs_No_SMS.png')\n",
    "plt.show()"
   ]
  },
  {
   "cell_type": "markdown",
   "metadata": {},
   "source": [
    "From the Bar Graph, it is clear that patiences who did not received SMS message were more likely to show up to appointment. "
   ]
  },
  {
   "cell_type": "code",
   "execution_count": 5,
   "metadata": {
    "scrolled": true
   },
   "outputs": [
    {
     "name": "stdout",
     "output_type": "stream",
     "text": [
      "        No Show   Show\n",
      "SMS        7629  20619\n",
      "No SMS     9419  48325 \n",
      "\n",
      "Chi Value: 1364.50933234\n",
      "P-Value: 1.08317178386e-298\n",
      "Deg of Freedom 1 \n",
      "\n",
      "              0             1\n",
      "0   5600.194251  22647.805749\n",
      "1  11447.805749  46296.194251\n"
     ]
    }
   ],
   "source": [
    "# create an contigency table for SMS vs No SMS\n",
    "index = ['SMS', 'No SMS']\n",
    "conti_sms = pd.DataFrame({'Show': [len(sms[sms['No_Show'] == 'No']), len(no_sms[no_sms['No_Show'] == 'No'])],\n",
    "                          'No Show': [len(sms[sms['No_Show'] == 'Yes']), len(no_sms[no_sms['No_Show'] == 'Yes'])]},\n",
    "                        index = index)\n",
    "\n",
    "# perform chi square contigency test for independence\n",
    "# Null: SMS messages are independent from show up rate\n",
    "# Alt: SMS messages (based on SMS) are dependent on show up rate\n",
    "Chi_Value, P_Value, Dof, Expected = stats.chi2_contingency(conti_sms)\n",
    "print(conti_sms, '\\n')               #Observed Table\n",
    "print('Chi Value:',Chi_Value)        #Chi-Square test stastitic\n",
    "print('P-Value:', P_Value)           #P-Value\n",
    "print('Deg of Freedom', Dof, '\\n')   #Degree of Freedom\n",
    "print(pd.DataFrame(Expected))        #Expected Table"
   ]
  },
  {
   "cell_type": "markdown",
   "metadata": {},
   "source": [
    "With the critical value of chi-square being unusually large, the data are clearly dependent on each other."
   ]
  },
  {
   "cell_type": "code",
   "execution_count": 6,
   "metadata": {},
   "outputs": [
    {
     "name": "stdout",
     "output_type": "stream",
     "text": [
      "T-test: Ttest_indResult(statistic=37.244767666000001, pvalue=3.2893128454160202e-301)\n"
     ]
    }
   ],
   "source": [
    "# Want to replace Yes/No with 1 or 0 for T-test\n",
    "# No_Show: yes - did not show up => assign 1\n",
    "#          no - showed up => assign 0           \n",
    "sms_temp = sms['No_Show'].replace(['Yes'], 1) \n",
    "sms_temp = sms_temp.replace(['No'], 0) \n",
    "\n",
    "no_sms_temp = no_sms['No_Show'].replace(['Yes'], 1) \n",
    "no_sms_temp = no_sms_temp.replace(['No'], 0) \n",
    "\n",
    "# perform 2 sample t-test with independent variables\n",
    "print('T-test:', stats.ttest_ind(sms_temp, no_sms_temp))"
   ]
  },
  {
   "cell_type": "markdown",
   "metadata": {},
   "source": [
    "From the result, it has a high t-value and extremely low p-value. There is a huge difference between the two data"
   ]
  },
  {
   "cell_type": "markdown",
   "metadata": {
    "collapsed": true
   },
   "source": [
    "# test on scholarship"
   ]
  },
  {
   "cell_type": "code",
   "execution_count": 7,
   "metadata": {},
   "outputs": [
    {
     "name": "stdout",
     "output_type": "stream",
     "text": [
      "Received SMS\n",
      "total number: 2735\n",
      "total number of no show: 935\n",
      "proportion of no show: 0.34186471663619744\n",
      "\n",
      "\n",
      "Did not received SMS\n",
      "total number: 5512\n",
      "total number of no show: 1028\n",
      "proportion of no show: 0.18650217706821481\n"
     ]
    }
   ],
   "source": [
    "# Perform test on patiences who received sms and has scholarship\n",
    "scholar_sms = sms[sms['Scholarship'] == 'Yes']\n",
    "scholar_no_sms = no_sms[no_sms['Scholarship'] == 'Yes']\n",
    "\n",
    "print('Received SMS')\n",
    "print('total number:', len(scholar_sms))\n",
    "print('total number of no show:', len(scholar_sms[scholar_sms['No_Show'] == 'Yes']))\n",
    "print('proportion of no show:', len(scholar_sms[scholar_sms['No_Show'] == 'Yes'])/len(scholar_sms))\n",
    "print('\\n')\n",
    "\n",
    "print('Did not received SMS')\n",
    "print('total number:', len(scholar_no_sms))\n",
    "print('total number of no show:', len(scholar_no_sms[scholar_no_sms['No_Show'] == 'Yes']))\n",
    "print('proportion of no show:', len(scholar_no_sms[scholar_no_sms['No_Show'] == 'Yes'])/len(scholar_no_sms))"
   ]
  },
  {
   "cell_type": "code",
   "execution_count": 8,
   "metadata": {},
   "outputs": [
    {
     "data": {
      "image/png": "[encoded data removed]",
      "text/plain": [
       "<matplotlib.figure.Figure at 0x16504dfc8d0>"
      ]
     },
     "metadata": {},
     "output_type": "display_data"
    }
   ],
   "source": [
    "# Barplots for Scholarship (Based on SMS and No SMS)\n",
    "\n",
    "# Assign variables for graph: (Show and No Show)\n",
    "obj = scholar_sms['No_Show'].unique()\n",
    "x_pos = np.arange(len(obj))\n",
    "wid = np.min(np.diff(x_pos))/3\n",
    "plt.figure(figsize=(10,5))\n",
    "\n",
    "sms_y_pos = [len(scholar_sms[scholar_sms['No_Show'] == 'Yes']), len(scholar_sms[scholar_sms['No_Show'] == 'No'])]\n",
    "no_sms_y_pos = [len(scholar_no_sms[scholar_no_sms['No_Show'] == 'Yes']), len(scholar_no_sms[scholar_no_sms['No_Show'] == 'No'])]\n",
    "\n",
    "ax = plt.subplot()\n",
    "ax.bar(x_pos-wid/2, sms_y_pos, width = wid, color = 'blue', label = 'SMS') # SMS\n",
    "ax.bar(x_pos+wid/2, no_sms_y_pos,  width = wid, color = 'red', label = 'No SMS') # No SMS\n",
    "\n",
    "\n",
    "ax.set_xticks(x_pos)\n",
    "ax.set_xticklabels(obj, fontsize = 12)\n",
    "ax.set_ylabel('Number of People', fontsize = 14)\n",
    "ax.set_xlabel('Show Up', fontsize = 14)\n",
    "ax.set_title('Scholarships' + '\\n' + 'Show Up Rate', fontsize = 16)\n",
    "ax.legend(fontsize = 10)\n",
    "\n",
    "plt.savefig('Scholarship.png')\n",
    "plt.show()"
   ]
  },
  {
   "cell_type": "code",
   "execution_count": 9,
   "metadata": {},
   "outputs": [
    {
     "name": "stdout",
     "output_type": "stream",
     "text": [
      "        No Show  Show\n",
      "SMS         935  1800\n",
      "No SMS     1028  4484 \n",
      "\n",
      "Chi test stat: 242.41981896\n",
      "P-Value: 1.16704546016e-54\n",
      "Deg of Freedom 1 \n",
      "\n",
      "            0           1\n",
      "0   651.00097  2083.99903\n",
      "1  1311.99903  4200.00097\n"
     ]
    }
   ],
   "source": [
    "# create an contigency table for SMS vs No SMS\n",
    "# Null: Scholarships (based on SMS) are independent from show up rate\n",
    "# Alt: Scholarships (based on SMS) are dependent on show up rate\n",
    "index = ['SMS', 'No SMS']\n",
    "conti_scholar = pd.DataFrame({'No Show': [len(scholar_sms[scholar_sms['No_Show'] == 'Yes']),\n",
    "                                      len(scholar_no_sms[scholar_no_sms['No_Show'] == 'Yes'])],\n",
    "                              'Show': [len(scholar_sms[scholar_sms['No_Show'] == 'No']),\n",
    "                                   len(scholar_no_sms[scholar_no_sms['No_Show'] == 'No'])]},\n",
    "                        index = index)\n",
    "\n",
    "# perform chi square contigency test for independence\n",
    "Chi_Value, P_Value, Dof, Expected = stats.chi2_contingency(conti_scholar)\n",
    "print(conti_scholar, '\\n')           #Observed Table\n",
    "print('Chi test stat:',Chi_Value)    #Chi-Square test stastitic\n",
    "print('P-Value:', P_Value)           #P-Value\n",
    "print('Deg of Freedom', Dof, '\\n')   #Degree of Freedom\n",
    "print(pd.DataFrame(Expected))        #Expected Table"
   ]
  },
  {
   "cell_type": "code",
   "execution_count": 10,
   "metadata": {},
   "outputs": [
    {
     "name": "stdout",
     "output_type": "stream",
     "text": [
      "T-test: Ttest_indResult(statistic=15.830644992148573, pvalue=1.2553049064051024e-55)\n"
     ]
    }
   ],
   "source": [
    "# For T-test, want to replace Yes/No with 1 or 0\n",
    "# No_Show: yes - did not show up => assign 1\n",
    "#          no - showed up => assign 0           \n",
    "sms_temp = scholar_sms['No_Show'].replace(['Yes'], 1) \n",
    "sms_temp = sms_temp.replace(['No'], 0) \n",
    "\n",
    "no_sms_temp = scholar_no_sms['No_Show'].replace(['Yes'], 1) \n",
    "no_sms_temp = no_sms_temp.replace(['No'], 0) \n",
    "\n",
    "# perform 2 sample t-test with independent variables\n",
    "print('T-test:', stats.ttest_ind(sms_temp, no_sms_temp))"
   ]
  },
  {
   "cell_type": "markdown",
   "metadata": {},
   "source": [
    "The results from scholarship show up rate are similar to the results from SMS vs No SMS. "
   ]
  },
  {
   "cell_type": "markdown",
   "metadata": {},
   "source": [
    "# test on with_condition"
   ]
  },
  {
   "cell_type": "code",
   "execution_count": 11,
   "metadata": {},
   "outputs": [
    {
     "name": "stdout",
     "output_type": "stream",
     "text": [
      "Received SMS\n",
      "total number: 7956\n",
      "total number of no show: 1876\n",
      "proportion of no show: 0.23579688285570638\n",
      "\n",
      "\n",
      "Did not received SMS\n",
      "total number: 18177\n",
      "total number of no show: 2736\n",
      "proportion of no show: 0.15051988777025913\n"
     ]
    }
   ],
   "source": [
    "# Perform test on patiences who received sms and has scholarship\n",
    "cond_sms = sms[sms['With_Condition'] == 'Yes']\n",
    "cond_no_sms = no_sms[no_sms['With_Condition'] == 'Yes']\n",
    "\n",
    "\n",
    "print('Received SMS')\n",
    "print('total number:', len(cond_sms))\n",
    "print('total number of no show:', len(cond_sms[cond_sms['No_Show'] == 'Yes']))\n",
    "print('proportion of no show:', len(cond_sms[cond_sms['No_Show'] == 'Yes'])/len(cond_sms))\n",
    "print('\\n')\n",
    "\n",
    "print('Did not received SMS')\n",
    "print('total number:', len(cond_no_sms))\n",
    "print('total number of no show:', len(cond_no_sms[cond_no_sms['No_Show'] == 'Yes']))\n",
    "print('proportion of no show:', len(cond_no_sms[cond_no_sms['No_Show'] == 'Yes'])/len(cond_no_sms))"
   ]
  },
  {
   "cell_type": "code",
   "execution_count": 12,
   "metadata": {},
   "outputs": [
    {
     "data": {
      "image/png": "[encoded data removed]",
      "text/plain": [
       "<matplotlib.figure.Figure at 0x16504f160f0>"
      ]
     },
     "metadata": {},
     "output_type": "display_data"
    }
   ],
   "source": [
    "# Barplots for Conditions (Based on SMS and No SMS)\n",
    "\n",
    "# Assign variables for graph: (Show and No Show)\n",
    "obj = cond_sms['No_Show'].unique()\n",
    "x_pos = np.arange(len(obj))\n",
    "wid = np.min(np.diff(x_pos))/3\n",
    "plt.figure(figsize=(10,5))\n",
    "\n",
    "sms_y_pos = [len(cond_sms[cond_sms['No_Show'] == 'Yes']), len(cond_sms[cond_sms['No_Show'] == 'No'])]\n",
    "no_sms_y_pos = [len(cond_no_sms[cond_no_sms['No_Show'] == 'Yes']), len(cond_no_sms[cond_no_sms['No_Show'] == 'No'])]\n",
    "\n",
    "ax = plt.subplot()\n",
    "ax.bar(x_pos-wid/2, sms_y_pos, width = wid, color = 'blue', label = 'SMS') # SMS\n",
    "ax.bar(x_pos+wid/2, no_sms_y_pos,  width = wid, color = 'red', label = 'No SMS') # No SMS\n",
    "\n",
    "\n",
    "ax.set_xticks(x_pos)\n",
    "ax.set_xticklabels(obj, fontsize = 12)\n",
    "ax.set_ylabel('Number of People', fontsize = 14)\n",
    "ax.set_xlabel('Show Up', fontsize = 14)\n",
    "ax.set_title('With Conditions' + '\\n' + 'Show Up Rate', fontsize = 16)\n",
    "ax.legend(fontsize = 10)\n",
    "\n",
    "plt.savefig('With_condition.png')\n",
    "plt.show()"
   ]
  },
  {
   "cell_type": "code",
   "execution_count": 13,
   "metadata": {},
   "outputs": [
    {
     "name": "stdout",
     "output_type": "stream",
     "text": [
      "        No Show   Show\n",
      "SMS        1876   6080\n",
      "No SMS     2736  15441 \n",
      "\n",
      "Chi test stat: 276.31057299\n",
      "P-Value: 4.78194911664e-62\n",
      "Deg of Freedom 1 \n",
      "\n",
      "             0             1\n",
      "0  1404.089542   6551.910458\n",
      "1  3207.910458  14969.089542\n"
     ]
    }
   ],
   "source": [
    "# create an contigency table for patiences with conditions (based on sms/no sms dataframe)\n",
    "# Null: With Conditions (based on SMS) are independent from show up rate\n",
    "# Alt: With Conditions (based on SMS) are dependent on show up rate\n",
    "index = ['SMS', 'No SMS']\n",
    "conti_wc = pd.DataFrame({'No Show': [len(cond_sms[cond_sms['No_Show'] == 'Yes']), \n",
    "                                     len(cond_no_sms[cond_no_sms['No_Show'] == 'Yes'])],\n",
    "                         'Show': [len(cond_sms[cond_sms['No_Show'] == 'No']),\n",
    "                                  len(cond_no_sms[cond_no_sms['No_Show'] == 'No'])]},\n",
    "                        index = index)\n",
    "\n",
    "# perform chi square contigency test for independence\n",
    "Chi_Value, P_Value, Dof, Expected = stats.chi2_contingency(conti_wc)\n",
    "print(conti_wc, '\\n')                #Observed Table\n",
    "print('Chi test stat:',Chi_Value)    #Chi-Square test stastitic\n",
    "print('P-Value:', P_Value)           #P-Value\n",
    "print('Deg of Freedom', Dof, '\\n')   #Degree of Freedom\n",
    "print(pd.DataFrame(Expected))        #Expected Table"
   ]
  },
  {
   "cell_type": "code",
   "execution_count": 14,
   "metadata": {},
   "outputs": [
    {
     "name": "stdout",
     "output_type": "stream",
     "text": [
      "T-test: Ttest_indResult(statistic=16.728446865643676, pvalue=1.7204567670659871e-62)\n"
     ]
    }
   ],
   "source": [
    "# For T-test, want to replace Yes/No with 1 or 0\n",
    "# No_Show: yes - did not show up => assign 1\n",
    "#          no - showed up => assign 0           \n",
    "sms_temp = cond_sms['No_Show'].replace(['Yes'], 1) \n",
    "sms_temp = sms_temp.replace(['No'], 0) \n",
    "\n",
    "no_sms_temp = cond_no_sms['No_Show'].replace(['Yes'], 1) \n",
    "no_sms_temp = no_sms_temp.replace(['No'], 0) \n",
    "\n",
    "# perform 2 sample t-test with independent variables\n",
    "print('T-test:', stats.ttest_ind(sms_temp, no_sms_temp))"
   ]
  },
  {
   "cell_type": "markdown",
   "metadata": {},
   "source": [
    "The results from conditions show up rate are also similar to the results from SMS vs No SMS. "
   ]
  },
  {
   "cell_type": "markdown",
   "metadata": {},
   "source": [
    "# create an contigency table for the following metrics:\n",
    "    # sms/no sms\n",
    "    # condtions\n",
    "    # scholarships\n",
    "    "
   ]
  },
  {
   "cell_type": "code",
   "execution_count": 15,
   "metadata": {},
   "outputs": [
    {
     "name": "stdout",
     "output_type": "stream",
     "text": [
      "        Conditions  SMS/No SMS  Scholarship\n",
      "SMS           1876        7629          935\n",
      "No SMS        2736        9419         1028 \n",
      "\n",
      "Chi test stat: 34.6784141286\n",
      "P-Value: 2.94902226457e-08\n",
      "Deg of Freedom 2 \n",
      "\n",
      "             0            1           2\n",
      "0  2038.237311  7534.230199   867.53249\n",
      "1  2573.762689  9513.769801  1095.46751\n"
     ]
    }
   ],
   "source": [
    "# create contigency for the 3 variables (focus on 'no show')\n",
    "# Null: The 3 data above (based on SMS) are independent from show up rate\n",
    "# Alt: The 3 data above (based on SMS) are dependent on show up rate\n",
    "index = ['SMS', 'No SMS']\n",
    "conti = pd.DataFrame({'SMS/No SMS': [len(sms[sms['No_Show'] == 'Yes']), len(no_sms[no_sms['No_Show'] == 'Yes'])],\n",
    "                      'Scholarship': [len(scholar_sms[scholar_sms['No_Show'] == 'Yes']),\n",
    "                                      len(scholar_no_sms[scholar_no_sms['No_Show'] == 'Yes'])],\n",
    "                      'Conditions': [len(cond_sms[cond_sms['No_Show'] == 'Yes']), \n",
    "                                     len(cond_no_sms[cond_no_sms['No_Show'] == 'Yes'])]},\n",
    "                     index = index)\n",
    "\n",
    "# perform chi square contigency test for independence\n",
    "Chi_Value, P_Value, Dof, Expected = stats.chi2_contingency(conti)\n",
    "print(conti, '\\n')                   #Observed Table\n",
    "print('Chi test stat:',Chi_Value)    #Chi-Square test stastitic\n",
    "print('P-Value:', P_Value)           #P-Value\n",
    "print('Deg of Freedom', Dof, '\\n')   #Degree of Freedom\n",
    "print(pd.DataFrame(Expected))        #Expected Table"
   ]
  },
  {
   "cell_type": "markdown",
   "metadata": {},
   "source": [
    "From the result of chi-square value and p-value, it looks like it will be rejecting the null hypothesis. Hence the data are dependent."
   ]
  },
  {
   "cell_type": "markdown",
   "metadata": {},
   "source": [
    "# test on day of week"
   ]
  },
  {
   "cell_type": "code",
   "execution_count": 16,
   "metadata": {},
   "outputs": [
    {
     "name": "stdout",
     "output_type": "stream",
     "text": [
      "['Friday' 'Tuesday' 'Monday' 'Thursday' 'Wednesday' 'Saturday']\n"
     ]
    }
   ],
   "source": [
    "print(sms['Day_of_Week'].unique())\n",
    "\n",
    "# there is no appointment on Sundays\n",
    "# want to create an array to sort the day of week accordingly\n",
    "sorter = np.array(['Monday', 'Tuesday', 'Wednesday', 'Thursday', 'Friday', 'Saturday'])"
   ]
  },
  {
   "cell_type": "code",
   "execution_count": 17,
   "metadata": {},
   "outputs": [
    {
     "name": "stdout",
     "output_type": "stream",
     "text": [
      "Monday:\n",
      "Total SMS: 5617\n",
      "Number of SMS No Show: 1506\n",
      "Proportion of No Show: 0.2681146519494392\n",
      "Total No SMS: 11853\n",
      "Number of No SMS No Show: 2065\n",
      "Proportion of No show: 0.17421749767991226\n",
      "T-test: Ttest_indResult(statistic=14.458962102203571, pvalue=4.1180831151625319e-47)\n",
      "\n",
      "\n",
      "Tuesday:\n",
      "Total SMS: 8480\n",
      "Number of SMS No Show: 2300\n",
      "Proportion of No Show: 0.27122641509433965\n",
      "Total No SMS: 11614\n",
      "Number of No SMS No Show: 1721\n",
      "Proportion of No show: 0.14818322713965904\n",
      "T-test: Ttest_indResult(statistic=21.782660981165677, pvalue=5.4049534497937832e-104)\n",
      "\n",
      "\n",
      "Wednesday:\n",
      "Total SMS: 7036\n",
      "Number of SMS No Show: 1865\n",
      "Proportion of No Show: 0.26506537805571345\n",
      "Total No SMS: 13040\n",
      "Number of No SMS No Show: 1919\n",
      "Proportion of No show: 0.14716257668711658\n",
      "T-test: Ttest_indResult(statistic=20.592997796312414, pvalue=2.9171548581768336e-93)\n",
      "\n",
      "\n",
      "Thursday:\n",
      "Total SMS: 3813\n",
      "Number of SMS No Show: 1081\n",
      "Proportion of No Show: 0.2835038027799633\n",
      "Total No SMS: 9673\n",
      "Number of No SMS No Show: 1490\n",
      "Proportion of No show: 0.15403701023467384\n",
      "T-test: Ttest_indResult(statistic=17.428344373450017, pvalue=2.7425814700548944e-67)\n",
      "\n",
      "\n",
      "Friday:\n",
      "Total SMS: 3289\n",
      "Number of SMS No Show: 874\n",
      "Proportion of No Show: 0.26573426573426573\n",
      "Total No SMS: 11538\n",
      "Number of No SMS No Show: 2218\n",
      "Proportion of No show: 0.1922343560409083\n",
      "T-test: Ttest_indResult(statistic=9.1780500861104652, pvalue=4.9593846878468468e-20)\n",
      "\n",
      "\n",
      "Saturday:\n",
      "Total SMS: 13\n",
      "Number of SMS No Show: 3\n",
      "Proportion of No Show: 0.23076923076923078\n",
      "Total No SMS: 26\n",
      "Number of No SMS No Show: 6\n",
      "Proportion of No show: 0.23076923076923078\n",
      "T-test: Ttest_indResult(statistic=0.0, pvalue=1.0)\n",
      "\n",
      "\n"
     ]
    }
   ],
   "source": [
    "# create 2 array to store data for sms and no sms\n",
    "sms_show_day = []\n",
    "no_sms_show_day = []\n",
    "\n",
    "for day in sorter:\n",
    "    sms_data = sms[sms['Day_of_Week'] == day]\n",
    "    no_sms_data = no_sms[no_sms['Day_of_Week'] == day]\n",
    "    print('{}:'.format(day))    \n",
    "    print('Total SMS:', len(sms_data))\n",
    "    print('Number of SMS No Show:', len(sms_data[sms_data['No_Show'] == 'Yes']))\n",
    "    print('Proportion of No Show:', len(sms_data[sms_data['No_Show'] == 'Yes'])/len(sms_data))\n",
    "    sms_show_day.append(len(sms_data[sms_data['No_Show'] == 'Yes'])) # store the data for SMS no show for each day\n",
    "    \n",
    "    print('Total No SMS:', len(no_sms_data))\n",
    "    print('Number of No SMS No Show:', len(no_sms_data[no_sms_data['No_Show'] == 'Yes']))\n",
    "    print('Proportion of No show:', len(no_sms_data[no_sms_data['No_Show'] == 'Yes'])/len(no_sms_data))\n",
    "    no_sms_show_day.append(len(no_sms_data[no_sms_data['No_Show'] == 'Yes'])) # store the data for No SMS no show for each day\n",
    "    \n",
    "    # For T-test, want to replace Yes/No with 1 or 0\n",
    "    # No_Show: yes - did not show up => assign 1\n",
    "    #          no - showed up => assign 0           \n",
    "    sms_temp = sms_data['No_Show'].replace(['Yes'], 1) \n",
    "    sms_temp = sms_temp.replace(['No'], 0) \n",
    "    no_sms_temp = no_sms_data['No_Show'].replace(['Yes'], 1) \n",
    "    no_sms_temp = no_sms_temp.replace(['No'], 0) \n",
    "    \n",
    "    print('T-test:', stats.ttest_ind(sms_temp, no_sms_temp))\n",
    "    print('\\n')\n",
    "    "
   ]
  },
  {
   "cell_type": "code",
   "execution_count": 18,
   "metadata": {},
   "outputs": [
    {
     "name": "stdout",
     "output_type": "stream",
     "text": [
      "[1506, 2300, 1865, 1081, 874, 3]\n",
      "[2065, 1721, 1919, 1490, 2218, 6]\n"
     ]
    }
   ],
   "source": [
    "print(sms_show_day)\n",
    "print(no_sms_show_day)"
   ]
  },
  {
   "cell_type": "code",
   "execution_count": 19,
   "metadata": {},
   "outputs": [
    {
     "data": {
      "image/png": "[encoded data removed]",
      "text/plain": [
       "<matplotlib.figure.Figure at 0x16504e88588>"
      ]
     },
     "metadata": {},
     "output_type": "display_data"
    }
   ],
   "source": [
    "# Barplots for Day of Week (Based on SMS and No SMS)\n",
    "# (focused on Number of No Show)\n",
    "\n",
    "# Assign variables for graph: (No Show)\n",
    "x_pos = np.arange(len(sorter))\n",
    "wid = np.min(np.diff(x_pos))/3\n",
    "plt.figure(figsize=(12,8))\n",
    "\n",
    "ax = plt.subplot()\n",
    "ax.bar(x_pos-wid/2, sms_show_day, width = wid, color = 'blue', label = 'SMS') # SMS\n",
    "ax.bar(x_pos+wid/2, no_sms_show_day,  width = wid, color = 'red', label = 'No SMS') # No SMS\n",
    "\n",
    "\n",
    "ax.set_xticks(x_pos)\n",
    "ax.set_xticklabels(sorter, rotation = 90, fontsize = 12)\n",
    "ax.set_ylabel('Number of No Show', fontsize = 14)\n",
    "ax.set_xlabel('Day of Week', fontsize = 14)\n",
    "ax.set_title('Day of Week' + '\\n' + 'Show Up Rate', fontsize = 16)\n",
    "ax.legend(fontsize = 10)\n",
    "\n",
    "plt.savefig('Day_of_Week.png')\n",
    "plt.show()"
   ]
  },
  {
   "cell_type": "markdown",
   "metadata": {},
   "source": [
    "We can pratically ignore Saturday because it is insignificant. Although this graph is not as obvious, patiences who has not received SMS messages seem to be more likely to show up to doctor appointments with the exception of Tuesday."
   ]
  },
  {
   "cell_type": "code",
   "execution_count": 20,
   "metadata": {},
   "outputs": [
    {
     "name": "stdout",
     "output_type": "stream",
     "text": [
      "           No SMS   SMS\n",
      "Monday       2065  1506\n",
      "Tuesday      1721  2300\n",
      "Wednesday    1919  1865\n",
      "Thursday     1490  1081\n",
      "Friday       2218   874\n",
      "Saturday        6     3 \n",
      "\n",
      "Chi test stat: 641.030789178\n",
      "P-Value: 2.74853199958e-136\n",
      "Deg of Freedom 5 \n",
      "\n",
      "             0            1\n",
      "0  1972.973311  1598.026689\n",
      "1  2221.597783  1799.402217\n",
      "2  2090.655561  1693.344439\n",
      "3  1420.474484  1150.525516\n",
      "4  1708.326373  1383.673627\n",
      "5     4.972489     4.027511\n"
     ]
    }
   ],
   "source": [
    "# create an contigency table for day of week (based on sms/no sms)\n",
    "# Null: The days of week (based on SMS) are independent from show up rate\n",
    "# Alt: The days of week (based on SMS) are dependent on show up rate\n",
    "conti_day = pd.DataFrame({'SMS': sms_show_day,\n",
    "                          'No SMS': no_sms_show_day},\n",
    "                         index = sorter)\n",
    "\n",
    "# perform chi square contigency test for independence\n",
    "Chi_Value, P_Value, Dof, Expected = stats.chi2_contingency(conti_day)\n",
    "print(conti_day, '\\n')               #Observed Table\n",
    "print('Chi test stat:',Chi_Value)    #Chi-Square test stastitic\n",
    "print('P-Value:', P_Value)           #P-Value\n",
    "print('Deg of Freedom', Dof, '\\n')   #Degree of Freedom\n",
    "print(pd.DataFrame(Expected))        #Expected Table"
   ]
  },
  {
   "cell_type": "markdown",
   "metadata": {},
   "source": [
    "From the result above, it seems that 'day of week' and 'show up rate' are dependent"
   ]
  },
  {
   "cell_type": "markdown",
   "metadata": {},
   "source": [
    "# test on age"
   ]
  },
  {
   "cell_type": "code",
   "execution_count": 21,
   "metadata": {},
   "outputs": [
    {
     "data": {
      "image/png": "[encoded data removed]",
      "text/plain": [
       "<matplotlib.figure.Figure at 0x16504e80940>"
      ]
     },
     "metadata": {},
     "output_type": "display_data"
    }
   ],
   "source": [
    "# Setting the overall aesthetic\n",
    "sns.set(style = 'ticks')  \n",
    "g = sns.FacetGrid(dat, row = 'SMS_Received', col = 'No_Show')\n",
    "\n",
    "# Create a histogram based on Age and adjust the room of the plots\n",
    "g.map(plt.hist, 'Age', color = 'steelblue', lw = 0)\n",
    "plt.subplots_adjust(right = 1.2, top = 0.9)\n",
    "\n",
    "g.set_axis_labels('Age')\n",
    "sns.plt.suptitle('Age of Patiences by SMS + Show Up Rate')\n",
    "\n",
    "sns.despine(trim=True)\n",
    "\n",
    "plt.savefig('age.png')\n",
    "plt.show()"
   ]
  },
  {
   "cell_type": "code",
   "execution_count": 22,
   "metadata": {
    "collapsed": true
   },
   "outputs": [],
   "source": [
    "# Create a Function to categorize the age groups into 4 categories\n",
    "# binning, discretization\n",
    "\n",
    "def age_group(var):\n",
    "    group = []\n",
    "    ind = var\n",
    "    counts = []\n",
    "    for x in var.index:\n",
    "        if x <= 24:\n",
    "            counts.append(ind[x])\n",
    "            x = 'Kids'\n",
    "            group.append(x)\n",
    "        elif x <= 44 and x > 24:\n",
    "            counts.append(ind[x])\n",
    "            x = 'Young Adults'\n",
    "            group.append(x)\n",
    "        elif x <= 64 and x > 44:\n",
    "            counts.append(ind[x])\n",
    "            x = 'Old Adults'\n",
    "            group.append(x)\n",
    "        elif x > 64:\n",
    "            counts.append(ind[x])\n",
    "            x = 'Seniors'\n",
    "            group.append(x)\n",
    "    return pd.DataFrame(group, counts).reset_index();"
   ]
  },
  {
   "cell_type": "code",
   "execution_count": 23,
   "metadata": {},
   "outputs": [
    {
     "name": "stdout",
     "output_type": "stream",
     "text": [
      "               SMS\n",
      "Age Group         \n",
      "Kids          1523\n",
      "Young Adults  3061\n",
      "Old Adults    2182\n",
      "Seniors        863\n",
      "\n",
      "\n",
      "              No SMS\n",
      "Age Group           \n",
      "Kids            1693\n",
      "Young Adults    3397\n",
      "Old Adults      2970\n",
      "Seniors         1359\n"
     ]
    }
   ],
   "source": [
    "# Analyze the no show rate based on age groups and sms received\n",
    "\n",
    "# Categorize each group by age\n",
    "group_sms_no_show = sms[sms['No_Show'] == 'Yes'].groupby('Age').count()\n",
    "group_no_sms_no_show = no_sms[no_sms['No_Show'] == 'Yes'].groupby('Age').count()\n",
    "\n",
    "# Create a new table with name for each age group\n",
    "group_sms_no_show = age_group(group_sms_no_show['No_Show'])\n",
    "group_no_sms_no_show = age_group(group_no_sms_no_show['No_Show'])\n",
    "\n",
    "# organize the dataframe\n",
    "group_sms_no_show.columns = ['SMS', 'Age Group']\n",
    "group_sms_no_show = group_sms_no_show.groupby('Age Group').sum()\n",
    "group_sms_no_show = pd.concat([group_sms_no_show.iloc[0:1],\n",
    "                               group_sms_no_show.iloc[3:],\n",
    "                               group_sms_no_show.iloc[1:2],\n",
    "                               group_sms_no_show.iloc[2:3]])\n",
    "\n",
    "group_no_sms_no_show.columns = ['No SMS', 'Age Group']\n",
    "group_no_sms_no_show = group_no_sms_no_show.groupby('Age Group').sum()\n",
    "group_no_sms_no_show = pd.concat([group_no_sms_no_show.iloc[0:1],\n",
    "                                  group_no_sms_no_show.iloc[3:],\n",
    "                                  group_no_sms_no_show.iloc[1:3]])\n",
    "\n",
    "# can use chisq conti. table\n",
    "# show proportion between no show and show\n",
    "print(group_sms_no_show)\n",
    "print('\\n')\n",
    "print(group_no_sms_no_show)"
   ]
  },
  {
   "cell_type": "code",
   "execution_count": 24,
   "metadata": {
    "scrolled": true
   },
   "outputs": [
    {
     "name": "stdout",
     "output_type": "stream",
     "text": [
      "Age Group  Kids  Young Adults  Old Adults  Seniors\n",
      "SMS        1523          3061        2182      863\n",
      "No SMS     1693          3397        2970     1359 \n",
      "\n",
      "Chi test stat: 70.5429089171\n",
      "P-Value: 3.26587302995e-15\n",
      "Deg of Freedom 3 \n",
      "\n",
      "             0            1            2            3\n",
      "0  1439.163773  2889.962576  2305.526044   994.347607\n",
      "1  1776.836227  3568.037424  2846.473956  1227.652393\n"
     ]
    }
   ],
   "source": [
    "# create an contigency table for age groups\n",
    "conti_age = pd.DataFrame([group_sms_no_show['SMS'], group_no_sms_no_show['No SMS']])\n",
    "\n",
    "# perform chi square contigency test for independence\n",
    "Chi_Value, P_Value, Dof, Expected = stats.chi2_contingency(conti_age)\n",
    "\n",
    "print(conti_age, '\\n')               # Observed Table\n",
    "print('Chi test stat:',Chi_Value)    #Chi-Square test stastitic\n",
    "print('P-Value:', P_Value)           #P-Value\n",
    "print('Deg of Freedom', Dof, '\\n')   #Degree of Freedom\n",
    "print(pd.DataFrame(Expected))        #Expected Table"
   ]
  },
  {
   "cell_type": "markdown",
   "metadata": {
    "collapsed": true
   },
   "source": [
    "# test based on day differences between scheduled and appointment date"
   ]
  },
  {
   "cell_type": "code",
   "execution_count": 25,
   "metadata": {
    "collapsed": true
   },
   "outputs": [],
   "source": [
    "# Create a temp dat dataframe for graphing purposes\n",
    "temp_dat = dat.loc[lambda x: dat['Day_Difference'] >= 0]"
   ]
  },
  {
   "cell_type": "code",
   "execution_count": 26,
   "metadata": {},
   "outputs": [
    {
     "data": {
      "image/png": "[encoded data removed]",
      "text/plain": [
       "<matplotlib.figure.Figure at 0x1650521a630>"
      ]
     },
     "metadata": {},
     "output_type": "display_data"
    }
   ],
   "source": [
    "# Setting the overall aesthetic.\n",
    "sns.set(style = 'whitegrid')\n",
    "\n",
    "# Comparing groups using boxplots.\n",
    "ax = sns.boxplot(x = 'No_Show', y = 'Day_Difference', hue = 'SMS_Received', data = temp_dat) \n",
    "                                #hue creates a subset with legend\n",
    "sns.plt.title('Day Difference by SMS + Show Up Rate')\n",
    "sns.despine(offset = 10, trim = True)\n",
    "ax.set(xlabel = 'Show Up Rate', ylabel = 'Day Difference')\n",
    "\n",
    "plt.savefig('day_diff_box.png')\n",
    "plt.show()"
   ]
  },
  {
   "cell_type": "markdown",
   "metadata": {},
   "source": [
    "* Majority of people receive SMS messages make appointment within 40 days of the appointment.\n",
    "* Interestingly, individuals who makes appointment within a week are more likely to not show up."
   ]
  },
  {
   "cell_type": "code",
   "execution_count": 27,
   "metadata": {},
   "outputs": [
    {
     "data": {
      "image/png": "[encoded data removed]",
      "text/plain": [
       "<matplotlib.figure.Figure at 0x16504d72588>"
      ]
     },
     "metadata": {},
     "output_type": "display_data"
    }
   ],
   "source": [
    "# Create a bar graph for day difference\n",
    "# Setting the overall aesthetic\n",
    "sns.set(style = 'darkgrid')\n",
    "\n",
    "g = sns.factorplot(x = 'No_Show', y = 'Day_Difference', hue = 'SMS_Received', data = temp_dat,\n",
    "                   size = 6, kind = \"bar\", palette = \"pastel\")\n",
    "g.despine(left=True)\n",
    "g.set_ylabels('Day Difference')\n",
    "g.set_xlabels('Show Up Rate')\n",
    "sns.plt.title('Day Difference by SMS + Show Up Rate')\n",
    "\n",
    "plt.savefig('day_diff_bar.png')\n",
    "plt.show()"
   ]
  },
  {
   "cell_type": "markdown",
   "metadata": {},
   "source": [
    "Huge variance difference => high chi-square values"
   ]
  },
  {
   "cell_type": "markdown",
   "metadata": {},
   "source": [
    "From this bar graph we found out that people who received messages tend to receive them weeks before the actual appointment day"
   ]
  },
  {
   "cell_type": "code",
   "execution_count": 28,
   "metadata": {},
   "outputs": [
    {
     "name": "stdout",
     "output_type": "stream",
     "text": [
      "T-test: Ttest_indResult(statistic=-0.98096420032412501, pvalue=0.32788462585327183)\n"
     ]
    }
   ],
   "source": [
    "# Analyze the no show rate based on day differences and sms received\n",
    "\n",
    "# Categorize each group by day difference\n",
    "diff_sms_no_show = sms[sms['No_Show'] == 'Yes'].groupby('Day_Difference').count()\n",
    "dfff_no_sms_no_show = no_sms[no_sms['No_Show'] == 'Yes'].groupby('Day_Difference').count()\n",
    "\n",
    "# create a dataframe\n",
    "diff_sms_no_show =  pd.DataFrame(diff_sms_no_show)\n",
    "dfff_no_sms_no_show =  pd.DataFrame(dfff_no_sms_no_show)\n",
    "\n",
    "sms_temp = diff_sms_no_show['No_Show']\n",
    "no_sms_temp = dfff_no_sms_no_show['No_Show']\n",
    "\n",
    "print('T-test:', stats.ttest_ind(sms_temp, no_sms_temp))"
   ]
  },
  {
   "cell_type": "markdown",
   "metadata": {},
   "source": [
    "do not reject the null hypothesis of average day difference being equal"
   ]
  },
  {
   "cell_type": "code",
   "execution_count": 29,
   "metadata": {},
   "outputs": [
    {
     "data": {
      "image/png": "[encoded data removed]",
      "text/plain": [
       "<matplotlib.figure.Figure at 0x165054fe630>"
      ]
     },
     "metadata": {},
     "output_type": "display_data"
    }
   ],
   "source": [
    "plt.figure(figsize = (10, 5))\n",
    "\n",
    "# Plot histogram for SMS w/ No Show\n",
    "plt.subplot(1, 2, 1)\n",
    "plt.hist(sms_temp)\n",
    "\n",
    "#Add a vertical line at mean and standard deviation\n",
    "plt.axvline(sms_temp.mean(), color = 'red', linestyle = 'solid', linewidth = 2)\n",
    "plt.axvline(sms_temp.mean() + sms_temp.std(), color = 'blue', linestyle = 'dashed', linewidth = 2)\n",
    "plt.axvline(sms_temp.mean() - sms_temp.std(), color = 'blue', linestyle = 'dashed', linewidth = 2)\n",
    "plt.title('Histogram for SMS + No Show', fontsize = 20)\n",
    "plt.xlabel('Day Difference', fontsize = 14)\n",
    "plt.ylabel('Count', fontsize = 14)\n",
    "\n",
    "# Plot histogram for No SMS w/ No Show\n",
    "plt.subplot(1, 2, 2)\n",
    "plt.hist(no_sms_temp)\n",
    "\n",
    "#Add a vertical line at mean and standard deviation\n",
    "plt.axvline(no_sms_temp.mean(), color = 'red', linestyle = 'solid', linewidth = 2)\n",
    "plt.axvline(no_sms_temp.mean() + no_sms_temp.std(), color = 'blue', linestyle = 'dashed', linewidth = 2)\n",
    "plt.axvline(no_sms_temp.mean() - no_sms_temp.std(), color = 'blue', linestyle = 'dashed', linewidth = 2)\n",
    "plt.title('Histogram for No SMS + No Show', fontsize = 18)\n",
    "plt.xlabel('Day Difference', fontsize = 14)\n",
    "plt.ylabel('Count', fontsize = 14)\n",
    "\n",
    "plt.tight_layout()\n",
    "plt.savefig('day_diff_histo.png')\n",
    "plt.show()"
   ]
  },
  {
   "cell_type": "markdown",
   "metadata": {},
   "source": [
    "# not normal distributed and big sample, still use ttest?"
   ]
  },
  {
   "cell_type": "markdown",
   "metadata": {
    "collapsed": true
   },
   "source": [
    "future notes: check for variance to decide which ttest to use"
   ]
  },
  {
   "cell_type": "code",
   "execution_count": null,
   "metadata": {
    "collapsed": true
   },
   "outputs": [],
   "source": []
  }
 ],
 "metadata": {
  "kernelspec": {
   "display_name": "Python 3",
   "language": "python",
   "name": "python3"
  },
  "language_info": {
   "codemirror_mode": {
    "name": "ipython",
    "version": 3
   },
   "file_extension": ".py",
   "mimetype": "text/x-python",
   "name": "python",
   "nbconvert_exporter": "python",
   "pygments_lexer": "ipython3",
   "version": "3.6.1"
  }
 },
 "nbformat": 4,
 "nbformat_minor": 2
}
